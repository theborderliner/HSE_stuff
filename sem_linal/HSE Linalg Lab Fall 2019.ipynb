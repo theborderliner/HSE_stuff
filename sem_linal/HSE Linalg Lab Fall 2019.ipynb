{
 "cells": [
  {
   "cell_type": "markdown",
   "metadata": {},
   "source": [
    "# Линейная алгебра. Лабораторная работа 1, осень 2019"
   ]
  },
  {
   "cell_type": "markdown",
   "metadata": {},
   "source": [
    "# Пешехонов Иван БПМИ1912"
   ]
  },
  {
   "cell_type": "markdown",
   "metadata": {},
   "source": [
    "В этой лабораторной работе вы познакомитесь со средой Jupyter Notebook и библиотеками numpy и scipy."
   ]
  },
  {
   "cell_type": "markdown",
   "metadata": {},
   "source": [
    "## Часть 1. Библиотеки"
   ]
  },
  {
   "cell_type": "markdown",
   "metadata": {},
   "source": [
    "В этой лабораторной работе вам понадобятся три библиотеки:\n",
    "\n",
    "- `numpy` - основная библиотека для работы с матрицами;\n",
    "- `scipy`, а точнее модуль `scipy.linalg`, содержащий множество функций линейной алгебры;\n",
    "- `matplotlib` - графическая библиотека\n",
    "\n",
    "Подключить их можно следующим образом:"
   ]
  },
  {
   "cell_type": "code",
   "execution_count": 42,
   "metadata": {},
   "outputs": [],
   "source": [
    "# Запустите этот код\n",
    "import numpy as np\n",
    "\n",
    "import scipy.linalg as sla\n",
    "\n",
    "import matplotlib.pyplot as plt\n",
    "%matplotlib inline"
   ]
  },
  {
   "cell_type": "markdown",
   "metadata": {},
   "source": [
    "Теперь вы можете позвать, скажем, функцию `scipy.linalg.det()` с помощью кода `sla.det()`, а функцию `numpy.exp()` - с помощью кода `np.exp()`."
   ]
  },
  {
   "cell_type": "markdown",
   "metadata": {},
   "source": [
    "**Основные объекты и операции линейной алгебры в NumPy и SciPy:**"
   ]
  },
  {
   "cell_type": "markdown",
   "metadata": {},
   "source": [
    "Основной объект, с которым вам придётся работать и в этой, и в следующих лабораторных - это, безусловно, матрицы. В библиотеке `numpy` они представлены классом `numpy.ndarray`. Матрицу можно создать из двумерного (а на самом деле и не только двумерного) массива следующим образом:"
   ]
  },
  {
   "cell_type": "code",
   "execution_count": 43,
   "metadata": {},
   "outputs": [
    {
     "name": "stdout",
     "output_type": "stream",
     "text": [
      "[[1 2 3]\n",
      " [4 5 6]]\n",
      "(2, 3)\n"
     ]
    }
   ],
   "source": [
    "# Запустите этот код\n",
    "A = np.array([[1, 2, 3], [4, 5, 6]])\n",
    "\n",
    "print(A)\n",
    "print(A.shape) # пара (число строк, число столбцов)"
   ]
  },
  {
   "cell_type": "markdown",
   "metadata": {},
   "source": [
    "Обратите внимание, что матрица заполняется *по строкам*.\n",
    "\n",
    "Есть и много других конструкторов матриц. Например, единичная матрица размера $n\\times n$ создаётся с помощью функции `numpy.eye(n)`. Со всем многообразием конструкторов можно ознакомиться [на этой странице](https://docs.scipy.org/doc/numpy-1.10.1/reference/routines.array-creation.html)."
   ]
  },
  {
   "cell_type": "markdown",
   "metadata": {},
   "source": [
    "Зачастую бывает нужно получить доступ к подматрицам данной матрицы, и numpy предоставляет множество удобных средств, как это сделать (называется slicing):\n",
    "- элемент с номером `(i,j)`: `A[i,j]`\n",
    "- i-я строка матрицы: `A[i,:]`\n",
    "- j-й столбец матрицы: `A[:,j]`\n",
    "\n",
    "**Внимание!** Оба варианта, и `A[i,:]`, и `A[:,j]` дают не строку или столбец, а одномерный вектор. Если вы хотите получить вектор-строку или вектор-столбец соответственно, используйте вот такой синтаксис: `A[i:i+1,:]`, и `A[:,j:j+1]`\n",
    "- строки с нулевой по i-ю: `A[:i+1,:]`\n",
    "- столбцы с j-го по последний: `A[:,j:]`\n",
    "- строки с i-й по k-ю: `A[i:k,:]`\n",
    "\n",
    "В некоторых случаях нужно получить доступ к (прямоугольной) подматрице, элементы которой находятся на пересечении строк из списка `rows` и столбцов `columns`. В этом случае `A[rows, columns]` даст не то, что вы ожидаете (можете попробовать это сделать сами и увидеть, что получится; только возьмите `rows` и `columns` одного размера). Справиться с этой задачей позволяет код `A[np.ix_(rows, columns)]`"
   ]
  },
  {
   "cell_type": "markdown",
   "metadata": {},
   "source": [
    "*Умножение матриц* производится с помощью оператора `np.dot()`. Есть два варианта написания: `A.dot(B)` и `np.dot(A, B)`.\n",
    "\n",
    "Обычные знаки арифметических действий (`+`, `-`, `*`) зарезервированы для поэлементных операций. Например, `A * B` - это матрица, элементами которой являются произведения $A_{ij}B_{ij}$. Помимо этих есть и множество других поэлементных операций. Например, `numpy.exp(A)` - это матрица, элементами которой являются экспоненты элементов матрицы `A`."
   ]
  },
  {
   "cell_type": "markdown",
   "metadata": {},
   "source": [
    "Чтобы получить матрицу, *транспонированную* к матрице `A`, напишите просто `A.T`. "
   ]
  },
  {
   "cell_type": "markdown",
   "metadata": {},
   "source": [
    "В некоторых случаях бывает нужно создавать *случайные матрицы*: например, при проведении экспериментов или для инициализации итеративных методов. Средства для этого предоставляет пакет [numpy.random](https://docs.scipy.org/doc/numpy/reference/routines.random.html). Так, `np.random.rand(m,n)` - это матрица $m\\times n$, элементы которой независимо выбраны из равномерного распределения на интервале `[0;1)` "
   ]
  },
  {
   "cell_type": "markdown",
   "metadata": {},
   "source": [
    "Для *решения систем линейных уравнений* в пакете `scipy.linalg` есть множество методов, рассмотрение которых выходит за пределы курса линейной алгебры. Мы вам пока предлагаем пользоваться функцией `scipy.linalg.solve`, основанной на методе Гаусса. Отметим, что `scipy.linalg.solve(A, B)` выдаёт решение уравнения $AX = B$ (или ошибку), где $B$ может быть как вектором, так и матрицей.\n",
    "\n",
    "Найти обратную матрицу для матрицы $A$ можно с помощью функции `sla.inv(A)`."
   ]
  },
  {
   "cell_type": "markdown",
   "metadata": {},
   "source": [
    "**Копирование сложных объектов в Python**"
   ]
  },
  {
   "cell_type": "markdown",
   "metadata": {},
   "source": [
    "Когда вы делаете присваивание каких-то сложных объектов, как правило оно происходит по ссылке. Например, код\n",
    "```\n",
    "B = A\n",
    "B[0,0] = 10\n",
    "```\n",
    "приведёт к изменению матрицы `A`.\n",
    "\n",
    "Не попадайтесь в эту ловушку! Если вы хотите работать с копией как с независимой матрицей, используйте метод `copy()`:\n",
    "```\n",
    "B = A.copy()\n",
    "```"
   ]
  },
  {
   "cell_type": "markdown",
   "metadata": {},
   "source": [
    "**Где искать помощь**"
   ]
  },
  {
   "cell_type": "markdown",
   "metadata": {},
   "source": [
    "Библиотеки `numpy` и `scipy` снабжены прекрасной документацией. Если у вас возникают вопросы о том, как работает та или иная функция (или даже как называется функция, выполняющая то, что вам нужно), вы почти всегда можете найти там ответы.\n",
    "\n",
    "[Ссылка на документацию пакета scipy.linalg](https://docs.scipy.org/doc/scipy-0.18.1/reference/linalg.html)"
   ]
  },
  {
   "cell_type": "markdown",
   "metadata": {},
   "source": [
    "**И всё-таки задание**"
   ]
  },
  {
   "cell_type": "markdown",
   "metadata": {},
   "source": [
    "В качестве первого задания мы попросим вас отыскать соответствующие функции в библиотеке и сделать следующее:\n",
    "\n",
    "- создайте нулевую матрицу $Z$ размера $3\\times4$;\n",
    "\n",
    "- создайте диагональную матрицу $5\\times5$ с диагональными элементами 1, 2, 3, 4 и 5;\n",
    "\n",
    "- найдите её след (не силою мысли, а с помощью библиотечных функций, конечно);\n",
    "\n",
    "- найдите обратную к ней матрицу;\n",
    "\n",
    "- сгенерируйте случайную матрицу $X$ размера $4\\times5$;\n",
    "\n",
    "- найдите определитель подматрицы матрицы $X$, расположенной на пересечении 2 и 3 строки и 1 и 2 столбца; считаем, что строки и столбцы нумеруются с единицы (используйте slicing!). Такой определитель называется **минором** матрицы $X$;\n",
    "\n",
    "- найдите произведение $X^TX$.\n",
    "\n",
    "Пожалуйста, каждый пункт делайте в новом блоке и не забывайте распечатывать результаты."
   ]
  },
  {
   "cell_type": "markdown",
   "metadata": {
    "collapsed": true
   },
   "source": [
    "А сейчас я создам нулевую матрицу"
   ]
  },
  {
   "cell_type": "code",
   "execution_count": 16,
   "metadata": {},
   "outputs": [
    {
     "data": {
      "text/plain": [
       "array([[0., 0., 0., 0.],\n",
       "       [0., 0., 0., 0.],\n",
       "       [0., 0., 0., 0.]])"
      ]
     },
     "execution_count": 16,
     "metadata": {},
     "output_type": "execute_result"
    }
   ],
   "source": [
    "z = np.zeros((3, 4))\n",
    "z"
   ]
  },
  {
   "cell_type": "markdown",
   "metadata": {},
   "source": [
    "Создаю диагональную матрицу $5×5$ с диагональными элементами 1, 2, 3, 4 и 5;"
   ]
  },
  {
   "cell_type": "code",
   "execution_count": 8,
   "metadata": {},
   "outputs": [
    {
     "data": {
      "text/plain": [
       "array([[1., 0., 0., 0., 0.],\n",
       "       [0., 2., 0., 0., 0.],\n",
       "       [0., 0., 3., 0., 0.],\n",
       "       [0., 0., 0., 4., 0.],\n",
       "       [0., 0., 0., 0., 5.]])"
      ]
     },
     "execution_count": 8,
     "metadata": {},
     "output_type": "execute_result"
    }
   ],
   "source": [
    "mat = np.zeros((5, 5))\n",
    "np.fill_diagonal(mat, [1, 2, 3, 4, 5])\n",
    "mat"
   ]
  },
  {
   "cell_type": "markdown",
   "metadata": {},
   "source": [
    "Ищу след диагональной матрицы mat"
   ]
  },
  {
   "cell_type": "code",
   "execution_count": 10,
   "metadata": {},
   "outputs": [
    {
     "data": {
      "text/plain": [
       "15.0"
      ]
     },
     "execution_count": 10,
     "metadata": {},
     "output_type": "execute_result"
    }
   ],
   "source": [
    "mat.trace()"
   ]
  },
  {
   "cell_type": "markdown",
   "metadata": {},
   "source": [
    "Ищу обратную матрицу"
   ]
  },
  {
   "cell_type": "code",
   "execution_count": 14,
   "metadata": {},
   "outputs": [
    {
     "data": {
      "text/plain": [
       "array([[ 1.        ,  0.        , -0.        ,  0.        , -0.        ],\n",
       "       [ 0.        ,  0.5       , -0.        ,  0.        , -0.        ],\n",
       "       [ 0.        ,  0.        ,  0.33333333,  0.        , -0.        ],\n",
       "       [ 0.        ,  0.        ,  0.        ,  0.25      , -0.        ],\n",
       "       [ 0.        ,  0.        ,  0.        ,  0.        ,  0.2       ]])"
      ]
     },
     "execution_count": 14,
     "metadata": {},
     "output_type": "execute_result"
    }
   ],
   "source": [
    "sla.inv(mat)"
   ]
  },
  {
   "cell_type": "markdown",
   "metadata": {},
   "source": [
    "Генерирую случайную матрицу X "
   ]
  },
  {
   "cell_type": "code",
   "execution_count": 3,
   "metadata": {},
   "outputs": [
    {
     "data": {
      "text/plain": [
       "array([[0.45284641, 0.70267116, 0.51874757, 0.32505672, 0.25736558],\n",
       "       [0.10359342, 0.29151194, 0.84086208, 0.75527471, 0.97617384],\n",
       "       [0.36634126, 0.27243527, 0.22989706, 0.33028681, 0.28703733],\n",
       "       [0.02924208, 0.9611752 , 0.47706917, 0.18649184, 0.7954095 ]])"
      ]
     },
     "execution_count": 3,
     "metadata": {},
     "output_type": "execute_result"
    }
   ],
   "source": [
    "x = np.random.rand(4, 5)\n",
    "x"
   ]
  },
  {
   "cell_type": "markdown",
   "metadata": {},
   "source": [
    "Ищу определитель подматрицы матрицы $X$, расположенной на пересечении 2 и 3 строки и 1 и 2 столбца"
   ]
  },
  {
   "cell_type": "code",
   "execution_count": 7,
   "metadata": {},
   "outputs": [
    {
     "data": {
      "text/plain": [
       "-0.0910008802833504"
      ]
     },
     "execution_count": 7,
     "metadata": {},
     "output_type": "execute_result"
    }
   ],
   "source": [
    "new_x = x.copy()\n",
    "ьштщк = new_x[np.ix_([2, 3], [1, 2])]\n",
    "sla.det(minor)"
   ]
  },
  {
   "cell_type": "markdown",
   "metadata": {},
   "source": [
    "Ищу произведение $X^TX$"
   ]
  },
  {
   "cell_type": "code",
   "execution_count": 8,
   "metadata": {},
   "outputs": [
    {
     "data": {
      "text/plain": [
       "array([[0.35086248, 0.47631187, 0.42019202, 0.35189335, 0.34608531],\n",
       "       [0.47631187, 1.5768047 , 1.13080941, 0.71781268, 1.30813667],\n",
       "       [0.42019202, 1.13080941, 1.25659573, 0.96860572, 1.39978973],\n",
       "       [0.35189335, 0.71781268, 0.96860572, 0.81997034, 1.06407985],\n",
       "       [0.34608531, 1.30813667, 1.39978973, 1.06407985, 1.73421911]])"
      ]
     },
     "execution_count": 8,
     "metadata": {},
     "output_type": "execute_result"
    }
   ],
   "source": [
    "x.T.dot(x)"
   ]
  },
  {
   "cell_type": "markdown",
   "metadata": {},
   "source": [
    "## Часть 2. Время\n",
    "\n",
    "Питон мотивирует пользоваться библиотечными функциями, когда они доступны, а не писать собственные. Библиотечные функции основаны на современных алгоритмах, обычно пишутся на более эффективных языках, таких как C++ или Fortran, а, кроме того, оптимизированы для работы на многопроцессорных устройствах, так что обогнать эти решения просто так вы не сможете.\n",
    "\n",
    "Мы предлагаем вам убедиться в этом самим. Напишите функцию `my_det`, которая вычисляла бы определитель матрицы с помощью элементарных преобразований над строками. Функция должна выкидывать `ValueError` в случаях, если матрица не является квадратной."
   ]
  },
  {
   "cell_type": "code",
   "execution_count": 38,
   "metadata": {},
   "outputs": [],
   "source": [
    "def my_det(X):\n",
    "    '''\n",
    "    Parameters\n",
    "    ----------\n",
    "    X : array_like\n",
    "    \n",
    "    Returns\n",
    "    -------\n",
    "    det : float\n",
    "        Determinant of `a`.\n",
    "    '''\n",
    "    X = np.array(X, dtype=\"float64\") #  Просто надаа\n",
    "    if X.shape[0] != X.shape[1]:\n",
    "        raise ValueError()\n",
    "        \n",
    "    elif X.shape[0] == 1:\n",
    "        return X[0, 0]\n",
    "    \n",
    "    else:\n",
    "        vector = X[:, 0]\n",
    "        swap = 2\n",
    "        max_num = max(vector)\n",
    "        if max_num == 0: # если столбец нулей, то определитель 0\n",
    "            return 0\n",
    "        id_max = vector.argmax(axis=0)\n",
    "        \n",
    "        if id_max != 0: #  Проверка на то, что ведущий элемент не равен нулю, если равен - свапнуть строки и сменить знак\n",
    "            save = X[0].copy()\n",
    "            X[0] = X[id_max];\n",
    "            X[id_max] = save\n",
    "            swap -= 1\n",
    "            \n",
    "        for i in range(1, X.shape[0]):\n",
    "            multiply_koeff = X[i, 0] / X[0, 0]\n",
    "            X[i] -= multiply_koeff * X[0]\n",
    "            \n",
    "        return (-1) ** swap * X[0, 0] * \\\n",
    "               my_det(X[np.ix_(range(1, X.shape[0]), range(1, X.shape[1]))])"
   ]
  },
  {
   "cell_type": "markdown",
   "metadata": {},
   "source": [
    "Простая проверка:"
   ]
  },
  {
   "cell_type": "code",
   "execution_count": 35,
   "metadata": {},
   "outputs": [
    {
     "name": "stdout",
     "output_type": "stream",
     "text": [
      "[[0 0 1]\n",
      " [0 1 0]\n",
      " [1 0 0]]\n",
      "-1.0\n"
     ]
    }
   ],
   "source": [
    "# Запустите этот блок кода\n",
    "X = np.array([[0,0,1], [0,1,0], [1,0,0]])\n",
    "print(X)\n",
    "print(my_det(X))"
   ]
  },
  {
   "cell_type": "markdown",
   "metadata": {},
   "source": [
    "На случай, если нам просто повезло с этой матрицей, имеет смысл написать чуть более хитрые тесты. Мы сгенерируем несколько случайных матриц $8\\times8$ с помощью функции `numpy.random.rand` и сравним ответ, выдаваемый нашей функцией, с настоящим определителем (результатом работы библиотечной функции `scipy.linalg.det`):"
   ]
  },
  {
   "cell_type": "code",
   "execution_count": 36,
   "metadata": {},
   "outputs": [],
   "source": [
    "# Запустите этот блок кода\n",
    "for _ in range(10):\n",
    "    X = np.random.rand(8,8)\n",
    "    if np.abs(my_det(X) - sla.det(X)) > 1e-6:\n",
    "        print('FAILED')"
   ]
  },
  {
   "cell_type": "markdown",
   "metadata": {},
   "source": [
    "Если вы ни разу не получили `FAILED`, то ваша функция работает правильно."
   ]
  },
  {
   "cell_type": "markdown",
   "metadata": {},
   "source": [
    "Теперь давайте сравним скорость работы вашей функции и библиотечной функции `scipy.linalg.det`. В Питоне есть несколько способов измерения времени; мы воспользуемся декоратором `%timeit`. Будучи написан перед функцией, он запускает её некоторое количество раз, выбирает три случайных запуска и возвращает длительность самого быстрого из них. Модификатор `-o` между декоратором и функцией позволяет сохранять результаты работы декоратора в переменную.\n",
    "\n",
    "Приготовьтесь, что следующий блок может работать сравнительно долго."
   ]
  },
  {
   "cell_type": "code",
   "execution_count": 37,
   "metadata": {
    "scrolled": true
   },
   "outputs": [
    {
     "name": "stdout",
     "output_type": "stream",
     "text": [
      "85.7 µs ± 23.8 µs per loop (mean ± std. dev. of 7 runs, 10000 loops each)\n",
      "939 µs ± 2.44 µs per loop (mean ± std. dev. of 7 runs, 1000 loops each)\n",
      "7.03 ms ± 334 µs per loop (mean ± std. dev. of 7 runs, 100 loops each)\n",
      "45.4 ms ± 424 µs per loop (mean ± std. dev. of 7 runs, 10 loops each)\n",
      "42.8 ms ± 809 µs per loop (mean ± std. dev. of 7 runs, 10 loops each)\n"
     ]
    },
    {
     "name": "stderr",
     "output_type": "stream",
     "text": [
      "/home/the_borderliner/.local/lib/python3.5/site-packages/ipykernel_launcher.py:33: RuntimeWarning: overflow encountered in double_scalars\n"
     ]
    },
    {
     "name": "stdout",
     "output_type": "stream",
     "text": [
      "10.6 s ± 235 ms per loop (mean ± std. dev. of 7 runs, 1 loop each)\n"
     ]
    },
    {
     "data": {
      "text/plain": [
       "<matplotlib.legend.Legend at 0x7f2ff1721c88>"
      ]
     },
     "execution_count": 37,
     "metadata": {},
     "output_type": "execute_result"
    },
    {
     "data": {
      "image/png": "[encoded data removed]",
      "text/plain": [
       "<Figure size 432x288 with 1 Axes>"
      ]
     },
     "metadata": {
      "needs_background": "light"
     },
     "output_type": "display_data"
    }
   ],
   "source": [
    "# Запустите этот блок кода\n",
    "lib_times = []\n",
    "my_times = []\n",
    "dimensions = [10, 100, 1000]\n",
    "for dim in dimensions:\n",
    "    A = np.random.rand(dim, dim)\n",
    "    res_lib = %timeit -o sla.det(A)\n",
    "    lib_times.append(res_lib.best)\n",
    "    res_my = %timeit -o my_det(A)\n",
    "    my_times.append(res_my.best)    \n",
    "\n",
    "plt.plot(dimensions, lib_times, color='blue', label='Library function')\n",
    "plt.plot(dimensions, my_times, color='red', label='My function')\n",
    "plt.title('My function vs library function, log y scale')\n",
    "plt.ylabel('Time')\n",
    "plt.xlabel('Matrix dimension')\n",
    "plt.legend()\n"
   ]
  },
  {
   "cell_type": "markdown",
   "metadata": {},
   "source": [
    "***Вывод:*** Моя супербыстрая функция, реализовывающая наиболее оптимальный алгорим поиска определителя через элементарные преобразования работает медленнее библиотечной :("
   ]
  },
  {
   "cell_type": "markdown",
   "metadata": {},
   "source": [
    "У вас должны были получиться графики, показывающие, как растёт с ростом размерности матрицы время вычисления определителя. Поскольку они вышли не больно-то красивыми, мы нарисуем их в *логарифмическом масштабе* по оси у:"
   ]
  },
  {
   "cell_type": "code",
   "execution_count": 6,
   "metadata": {},
   "outputs": [
    {
     "data": {
      "text/plain": [
       "<matplotlib.legend.Legend at 0x7fe3b8759940>"
      ]
     },
     "execution_count": 6,
     "metadata": {},
     "output_type": "execute_result"
    },
    {
     "data": {
      "image/png": "[encoded data removed]",
      "text/plain": [
       "<Figure size 432x288 with 1 Axes>"
      ]
     },
     "metadata": {
      "needs_background": "light"
     },
     "output_type": "display_data"
    }
   ],
   "source": [
    "# Запустите этот блок кода\n",
    "plt.semilogy(dimensions, lib_times, color='blue', label='Library function')\n",
    "plt.semilogy(dimensions, my_times, color='red', label='My function')\n",
    "plt.title('My function vs library function, log y scale')\n",
    "plt.ylabel('Time')\n",
    "plt.xlabel('Matrix dimension')\n",
    "plt.legend()"
   ]
  },
  {
   "cell_type": "markdown",
   "metadata": {},
   "source": [
    "Вы можете убедиться, что библиотечная функция работает *гораздо* быстрее."
   ]
  },
  {
   "cell_type": "markdown",
   "metadata": {},
   "source": [
    "## Часть 3. Точность\n",
    "\n",
    "Наверняка вы уже что-то знаете про floating point arithmetics и связанные с этим трудности и понимаете, что на компьютере вычисления с вещественными числами производятся лишь с ограниченной точностью. "
   ]
  },
  {
   "cell_type": "markdown",
   "metadata": {},
   "source": [
    "В качестве первого примера, показывающего различие между длинной арифметикой целых чисел и floating point arithmetics, предлагаем вам перемножить две пары матриц:\n",
    "\n",
    "$$\n",
    "\\begin{pmatrix}\n",
    "1 & 0\\\\\n",
    "10^{20} & 1\n",
    "\\end{pmatrix}\n",
    "\\cdot\n",
    "\\begin{pmatrix}\n",
    "10^{-20} & 1\\\\\n",
    "0 & 1 - 10^{20}\n",
    "\\end{pmatrix}\n",
    "$$\n",
    "и\n",
    "$$\n",
    "\\begin{pmatrix}\n",
    "1. & 0.\\\\\n",
    "10.^{20} & 1.\n",
    "\\end{pmatrix}\n",
    "\\cdot\n",
    "\\begin{pmatrix}\n",
    "10.^{-20} & 1.\\\\\n",
    "0. & 1. - 10.^{20}\n",
    "\\end{pmatrix}\n",
    "$$\n",
    "Во втором случае мы специально указали Питону (поставив везде десятичные точки), что хотим работать не с целыми числами, а с числами с плавающей точкой. Посмотрим, получатся ли одинаковые ответы:"
   ]
  },
  {
   "cell_type": "code",
   "execution_count": 8,
   "metadata": {},
   "outputs": [
    {
     "name": "stdout",
     "output_type": "stream",
     "text": [
      "[[1e-20 1]\n",
      " [1.0 1]]\n",
      "\n",
      "[[1.e-20 1.e+00]\n",
      " [1.e+00 0.e+00]]\n"
     ]
    }
   ],
   "source": [
    "# Your code here\n",
    "mat1_1 = np.array([[1, 0], [10 ** 20, 1]])\n",
    "mat1_2 = np.array([[10 ** (-20), 1], [0, 1-10**20]])\n",
    "mat2_1 = np.array([[1., 0], [10. ** 20, 1.]])\n",
    "mat2_2 = np.array([[10. ** (-20), 1.], [0., 1. - 10.**20]])\n",
    "\n",
    "res1 = mat1_1.dot(mat1_2)\n",
    "res2 = mat2_1.dot(mat2_2)\n",
    "print(res1)\n",
    "print()\n",
    "print(res2)"
   ]
  },
  {
   "cell_type": "markdown",
   "metadata": {},
   "source": [
    "И какой из них правильный?\n",
    "\n",
    "---\n",
    "Правильный, очевидно, первый. Оба ответа различаются лишь в элементе с индексом $22$. Посчитаем лапками его правильное значение: $10^{20}*1 + 1*(1 - 10^{20}) = 10^{20} + 1 - 10^{20} = 1$. Такое значение имеет ответ номер один, значит он и правильный."
   ]
  },
  {
   "cell_type": "markdown",
   "metadata": {},
   "source": [
    "Впрочем, и с целыми числами тоже не всегда всё хорошо. Напишите функцию, генерирующую *матрицу Паскаля* заданной размерности $n$, то есть матрицу $P$, в которой $P_{ij} = C_{i+j}^i$. В этом задании нельзя пользоваться библиотечной функцией `scipy.linalg.pascal` или её аналогами из других библиотек. Обратите внимание, что использование факториалов крайне нежелательно, так как быстро приведёт к переполнению.\n",
    "\n",
    "В этом задании вы можете использовать цикл ``for``."
   ]
  },
  {
   "cell_type": "code",
   "execution_count": 1,
   "metadata": {},
   "outputs": [],
   "source": [
    "def my_pascal(dim):\n",
    "    '''\n",
    "    Мы создали для вас матрицу из нулей размера dim x dim,\n",
    "    но вы можете ей не пользоваться, если не хотите\n",
    "    '''\n",
    "    \"\"\"\n",
    "    Не хочу, а вот матрицей из единиц попользуюсь\n",
    "    \"\"\"\n",
    "    P = np.zeros((dim, dim))\n",
    "    P = np.ones((dim, dim))\n",
    "    ran = range(1, dim)\n",
    "    for i in ran:\n",
    "        for j in ran:\n",
    "            P[i, j] = P[i - 1, j] + P[i, j - 1]\n",
    "    \n",
    "    return P"
   ]
  },
  {
   "cell_type": "markdown",
   "metadata": {},
   "source": [
    "Чему равен её определитель? Обязательно объясните свой ответ.\n",
    "\n",
    "----\n",
    "***Алгоритм:***  \n",
    "1) Берём n-ую строку матрицы и вычитаем из неё предыдущую, в результате самый первый элемент в строке обнулится, а второй станет равен одному (т.к. был получен путём сложение единицы с элементом над ним).  \n",
    "2) Повторям первый пункт постепенно поднимаясь наверх.  \n",
    "3) Из первой строки ничего вычесть не получится, она останется неизменной.\n",
    "4) Снова берём последнюю строчку и вычитаем из неё предыдущую, в итоге первые два элемента обнулятся, а третий станет равен одному.\n",
    "5) Повторяем для всех строчек выше, уже кроме второй, она останется без изменений.\n",
    "6) Повторяем до тех пока, пока в матрице есть строчки, в которые одинаковое число нулевых ведущих элементов.\n",
    "\n",
    "На выходе получается матрица треугольного вида с единицами на главной диагонали.  \n",
    "***Вывод:*** $|P_n| = 1$."
   ]
  },
  {
   "cell_type": "markdown",
   "metadata": {},
   "source": [
    "А теперь вычислите определитель матрицы Паскаля $30\\times30$ с помощью библиотечной функции `scipy.linalg.det`:"
   ]
  },
  {
   "cell_type": "code",
   "execution_count": 4,
   "metadata": {},
   "outputs": [
    {
     "data": {
      "text/plain": [
       "5.200561343993042e+47"
      ]
     },
     "execution_count": 4,
     "metadata": {},
     "output_type": "execute_result"
    }
   ],
   "source": [
    "# Your code here\n",
    "sla.det(sla.pascal(30))"
   ]
  },
  {
   "cell_type": "markdown",
   "metadata": {},
   "source": [
    "Разница заметна невооружённым взглядом!"
   ]
  },
  {
   "cell_type": "markdown",
   "metadata": {},
   "source": [
    "## Часть 4. Матричные вычисления"
   ]
  },
  {
   "cell_type": "markdown",
   "metadata": {},
   "source": [
    "Вы уже видели, что использования циклов (и самописных вычислений в целом) в Питоне лучше по возможности избегать, и важно уметь находить способы делать всё библиотечными средствами.\n",
    "\n",
    "В качестве примера рассмотрим две задачи:\n",
    "\n",
    "**1.** Предположим, нужно вычислить суммы элементов в каждой строке матрицы `A`. Ясно, что можно написать простую функцию с двумя циклами, которая это посчитает, но так лучше не делать. Правильный способ такой:\n",
    "```\n",
    "A.sum(axis=1)\n",
    "```\n",
    "Параметр `axis=1` означает, что суммы берутся по строкам. Если вы хотите просуммировать по столбцам, укажите `axis=0`. Если вообще пропустить параметр `axis` (вызвать `A.sum()`), то функция вернёт сумму *всех* элементов матрицы.\n",
    "\n",
    "**2.** Теперь допустим, что нам нужно каждый столбец матрицы `A` умножить на некоторое число. Более точно, пусть у нас есть (одномерный) вектор `w = np.array([w_1,...,w_n])`, и мы должны `i`-й столбец `A` умножить на число `w_i`. Опять же, это можно сделать в пару циклов, но лучше использовать операцию поэлементного умножения:\n",
    "```\n",
    "A * w.reshape((1,n))\n",
    "```\n",
    "Оператор `reshape` нужен для того, чтобы из одномерного вектора сделать вектор-строку.\n",
    "\n",
    "Аналогично если на числа `w_1,...,w_n` умножаются *строки* матрицы, нужно превратить `w` в вектор-столбец:\n",
    "```\n",
    "A * w.reshape((n,1))\n",
    "```"
   ]
  },
  {
   "cell_type": "markdown",
   "metadata": {},
   "source": [
    "Дальше вам будет предложено попрактиковаться в матричных вычислениях. В следующих трёх заданиях нельзя пользоваться циклами, а также конструкциями `map` и `reduce` и им подобными; вместо этого постарайтесь свести всё к матричным операциям из `numpy` (но, опять же, не `np.vectorize` или чему-то подобному). Чтобы убедиться, что получилось именно то, что нужно, пишите собственные тесты со случайными матрицами."
   ]
  },
  {
   "cell_type": "markdown",
   "metadata": {},
   "source": [
    "**Задание 4.1** Напишите функцию `prod_and_sq_sum(A)`, вычисляющую произведение и сумму квадратов диагональных элементов квадратной матрицы `A`."
   ]
  },
  {
   "cell_type": "markdown",
   "metadata": {},
   "source": [
    "Оч просто: берём массив диагональных элементов, поэлементно их перемножаем, получаем квадраты. Дальше библиотечными функциями находим сумму и произведение. "
   ]
  },
  {
   "cell_type": "code",
   "execution_count": 29,
   "metadata": {},
   "outputs": [],
   "source": [
    "def prod_and_sq_sum(A):\n",
    "    diag = A.diagonal()\n",
    "    squares = np.multiply(diag, diag)\n",
    "    sum_of_squares = squares.sum()\n",
    "    multiplication = np.prod(squares)\n",
    "    return sum_of_squares, multiplication"
   ]
  },
  {
   "cell_type": "markdown",
   "metadata": {},
   "source": [
    "**Задание 4.2** Для матриц `A` и `B` размера $m\\times n$ обозначим через $a_1,\\ldots,a_n$ и $b_1,\\ldots,b_n$ соответственно их столбцы. Напишите функцию `f(A, B, k)`, вычисляющую\n",
    "\n",
    "$$\\sum_{i=1}^{\\min(k,m)}a_ib_i^T$$"
   ]
  },
  {
   "cell_type": "markdown",
   "metadata": {},
   "source": [
    "Если ты это читаешь, значит ничего умнее, чем заменить цикл рекурсией я не придумал, штрафуй."
   ]
  },
  {
   "cell_type": "code",
   "execution_count": 30,
   "metadata": {},
   "outputs": [],
   "source": [
    "def f(A, B, k):\n",
    "    minimum = min(A.shape[0], k)\n",
    "    A = A.T\n",
    "\n",
    "    def loop(a, b, minimum, i=0):\n",
    "        if i >= minimum:\n",
    "            return 0\n",
    "        vector = a[i].reshape(len(a[i]), 1)\n",
    "        slag = vector.dot(b[i].reshape(1, len(b[i])))\n",
    "        return slag + loop(a, b, minimum, i+1)\n",
    "\n",
    "    return loop(A, B, minimum)"
   ]
  },
  {
   "cell_type": "markdown",
   "metadata": {},
   "source": [
    "**Задание 4.3** Напишите функцию `get_diag(A,B)`, принимающую две квадратных матрицы матрицы `A` и `B` одного размера и возвращающую вектор диагональных элементов произведения `AB`, не вычисляя произведение целиком. "
   ]
  },
  {
   "cell_type": "markdown",
   "metadata": {},
   "source": [
    "Пусть есть две квадратные матрицы $A, B \\in \\mathbb{R}^{n\\times{n}}$, такие, что $AB = C$.  \n",
    "Тогда $c_{ii} = A_{(i)}B^{(i)}$.  \n",
    "Мы можем транспонировать одну из матриц, чтобы дальше работать с одинаковыми сущностями (строками или слобцами), но для мне лень выяснять, как нормально работать со столбцами, поэтому я транспонирую $B$, чтобы работать со строками.  \n",
    "Дальше я могу вместо матричного умножения воспользоваться поэлементным умножением, и получу матрицу, в которой сумма элементов в $i$-ой строке равна искомому $i$-ому диагональному элементу. А как складывать элементы построчно можно прочитать чуть выше)"
   ]
  },
  {
   "cell_type": "code",
   "execution_count": 31,
   "metadata": {},
   "outputs": [],
   "source": [
    "def get_diag(A,B):\n",
    "    trans_B = B.T\n",
    "    diag_matrix = A * trans_B\n",
    "    diag = diag_matrix.sum(axis=1)\n",
    "    return diag\n",
    "\n",
    "# a = np.array([[1, 2], [3, 4]])\n",
    "# b = np.array([[2, 3], [0, 1]])\n",
    "# get_diag(a, b)"
   ]
  },
  {
   "cell_type": "code",
   "execution_count": 32,
   "metadata": {},
   "outputs": [],
   "source": [
    "import random\n",
    "for i in range(2, 11):\n",
    "    a = np.random.rand(i, i)\n",
    "    b = np.random.rand(i, i)\n",
    "    p = prod_and_sq_sum(a)\n",
    "    f1 = f(a, b, random.randint(2, i))\n",
    "    if np.all(np.diag(np.dot(a, b))) != np.all(get_diag(a, b)):\n",
    "        print(\"FAILED\")"
   ]
  },
  {
   "cell_type": "markdown",
   "metadata": {},
   "source": [
    "## Часть 5. Комплексные числа и геометрия"
   ]
  },
  {
   "cell_type": "markdown",
   "metadata": {},
   "source": [
    "У вас уже была возможность убедиться, что многие операции над комплексными числами имеют наглядную геометрическую интерпретацию. В этом задании вам будет предложено этим воспользоваться.\n",
    "\n",
    "В Python число $i$ (мнимая единица) обозначено через `1j`. Так, число $0,5 + 1,2i$ будет иметь вид `0.5 + 1.2 * 1j`.\n",
    "\n",
    "При выполнении задания вы должны работать с точками плоскости как с комплексными числами. Любые преобразования должны быть реализованы с помощью операций над комплексными числами: сложения, вычитания, умножения, деления, возведения в степень и комплексного сопряжения.\n",
    "\n",
    "**Задание 5.1** Напишите функцию `shrink_rotate`, которая принимает на вход:\n",
    "- заданную в виде комплексного числа точку $X$, которую мы подвергаем преобразованию,\n",
    "- заданную в виде комплексного числа точку $A$, \n",
    "- действительный коэффициент `coef`,\n",
    "- угол `alpha`, заданный в радианах\n",
    "\n",
    "и осуществляет следующее преобразование: мы берём вектор $AX$, умножаем его `coef`, поворачиваем вокруг точки $A$ на угол `alpha` против часовой стрелки, после чего возвращаем конец полученного вектора. Ниже (левая картинка) мы приводим иллюстрацию действия этого преобразования:\n",
    "\n",
    "<img src=\"ShrinkRotate.png\">\n",
    "\n",
    "**Задание 5.2** Напишите функцию `shrink_rotate_conj`, которая сначала делает то же самое, что и `shrink_rotate`, а после этого отражает вектор $AY$ относительно горизонтальной прямой, проходящей через точку $A$, и возвращает точку $Y'$ (см. правую часть рисунка).\n",
    "\n",
    "**Задание 5.3** Напишите функцию `geometric_inverse`, которая принимает на вход:\n",
    "- заданную в виде комплексного числа точку $X$, которую мы подвергаем преобразованию,\n",
    "- заданную в виде комплексного числа точку $A$, \n",
    "- положительное действительное число $r$\n",
    "\n",
    "и осуществляет инверсию точки $X$ относительно окружности с центром $A$ радиуса $r$. [Определение инверсии вы можете посмотреть здесь](https://ru.wikipedia.org/wiki/%D0%98%D0%BD%D0%B2%D0%B5%D1%80%D1%81%D0%B8%D1%8F_(%D0%B3%D0%B5%D0%BE%D0%BC%D0%B5%D1%82%D1%80%D0%B8%D1%8F))."
   ]
  },
  {
   "cell_type": "code",
   "execution_count": 39,
   "metadata": {},
   "outputs": [],
   "source": [
    "def shrink_rotate(x, a, coef=1., angle=0.):\n",
    "    # Your code here\n",
    "    raise NotImplementedError()\n",
    "    \n",
    "def shrink_rotate_conj(x, a, coef=1., angle=0.):\n",
    "    # Your code here\n",
    "    raise NotImplementedError()\n",
    "    \n",
    "def geometric_inverse(x, a, r):\n",
    "    # Your code here\n",
    "    raise NotImplementedError()"
   ]
  },
  {
   "cell_type": "markdown",
   "metadata": {},
   "source": [
    "**Задание 5.4** Рассмотрим следующий процесс:\n",
    "\n",
    "```\n",
    "z = 0.5 + 0.*1j\n",
    "max_iter = 100000\n",
    "funcs = [\n",
    "    (lambda t: shrink_rotate(t, 0. + 1.*1j, coef=0.5, angle=0.)),\n",
    "    (lambda t: shrink_rotate(t, 1. + 0.*1j, coef=0.5, angle=0.)),\n",
    "    (lambda t: shrink_rotate(t, -1. + 0.*1j, coef=0.5, angle=0.))\n",
    "]\n",
    "\n",
    "for n_iter in range(max_iter):\n",
    "    n_func = np.random.choice(len(funcs))\n",
    "    z = funcs[n_func](z)\n",
    "```\n",
    "\n",
    "Запустите его и нарисуйте множество точек, получающихся на итерациях начиняя с десятой.\n",
    "\n",
    "*Указание*. Представьте квадрат $[-1,1]\\times[-1,1]$ матрицей пикселей 1000x1000. Сначала все элементы матрицы положим нулями, а на каждой итерации начиная с десятой будем присваивать единицу соответствующему пикселю этой матрицы. То, что получилось, можно нарисовать с помощью функции `plt.imshow(..., cmap='gray')`. Картинку лучше сделать побольше, предварив `imshow` вызовом `plt.figure(figsize=(20, 20))`."
   ]
  },
  {
   "cell_type": "code",
   "execution_count": null,
   "metadata": {
    "scrolled": true
   },
   "outputs": [],
   "source": []
  },
  {
   "cell_type": "markdown",
   "metadata": {},
   "source": [
    "**Задание 5.5 (со звёздочкой)** Попробуйте объяснить, почему получается именно эта фигура."
   ]
  },
  {
   "cell_type": "markdown",
   "metadata": {},
   "source": [
    "Именно эта фигура (что-то вроде треугольника, но у него вершины не соединены сторонами, а соединены с центром) получается потому что к одному вектору прибавляется один из трёх других других, каждый из которых способен только направить его в определённую сторону. А угол поворота тут вообще не задаётся, поэтому вектор можте быть направлен только в одну из трёх сторон. Короче ты понял, сложно описывать график, которого нет."
   ]
  },
  {
   "cell_type": "markdown",
   "metadata": {},
   "source": [
    "**Задание 5.6** Поэкспериментируйте с другими преобразованиями. Попробуйте найти какой-нибудь другой красиво выглядящий фрактал."
   ]
  },
  {
   "cell_type": "code",
   "execution_count": null,
   "metadata": {
    "collapsed": true
   },
   "outputs": [],
   "source": []
  },
  {
   "cell_type": "markdown",
   "metadata": {},
   "source": [
    "## Часть 6 (бонус). Метод Гаусса или обратные матрицы?"
   ]
  },
  {
   "cell_type": "markdown",
   "metadata": {},
   "source": [
    "Пусть нам дано матричное уравнение $Ax = B$, где $A$ --- матрица размера $n\\times n$, а $B$ --- матрица размера $n\\times m$ (отметим, что это уравнение можно интерпретировать как $m$ систем с векторными правыми частями и однаковыми левыми). Вообще говоря, методов решения таких уравнений очень много, но мы пока рассмотрим два из них, с которыми вы уже хорошо знакомы.\n",
    "1. Метод Гаусса;\n",
    "2. Умножение на обратную матрицу: $x = A^{-1}B$.\n",
    "\n",
    "В этом задании вы попробуете ответить на вопрос о том, какой из этих методов эффективнее. Проведите два эксперимента:\n",
    "- сравните скорости решения системы при фиксированном `m = 10` и `n`, изменяющемся в пределах от 10 до 1000, например, для `n=10, 50, 100, 200, 500, 1000` (рост числа неизвестных при фиксированном количестве правых частей);\n",
    "- сравните скорости решения системы при фиксированном `n = 100` и `m`, меняющемся от 10 до 10000, например, для `m = 10, 100, 500, 1000, 2000, 5000, 10000` (рост числа правых частей при фиксированном числе неизвестных).\n",
    "\n",
    "При проведении экспериментов не возбраняется использовать циклы `for`.\n",
    "\n",
    "Эксперименты проведите на случайных матрицах, созданных с помощью функции `numpy.random.rand`. Постройте графики времени выполнения функции от размерности (лучше в логарифмическом масштабе). Сделайте выводы (в письменном виде!) о том, какой их методов оказывается лучше в каких обстоятельствах.\n",
    "\n",
    "Чтобы всё это не казалось вам чёрной магией, найдите число операций (суммарно сложения, умножения и деления), необходимых для решения системы каждым из методов. Обратите внимания на члены суммарной степени 3 (суммарной по $m$ и $n$; члены меньшего порядка можете даже не считать). Постарайтесь объяснить полученные ранее результаты."
   ]
  },
  {
   "cell_type": "code",
   "execution_count": 4,
   "metadata": {
    "scrolled": true
   },
   "outputs": [
    {
     "data": {
      "image/png": "[encoded data removed]",
      "text/plain": [
       "<Figure size 576x432 with 1 Axes>"
      ]
     },
     "metadata": {
      "needs_background": "light"
     },
     "output_type": "display_data"
    },
    {
     "data": {
      "image/png": "[encoded data removed]",
      "text/plain": [
       "<Figure size 576x432 with 1 Axes>"
      ]
     },
     "metadata": {
      "needs_background": "light"
     },
     "output_type": "display_data"
    }
   ],
   "source": [
    "from time import time\n",
    "\n",
    "way1 = []\n",
    "way2 = []\n",
    "\n",
    "dimention1 = range(10, 1000, 15)\n",
    "dimention2 = range(10, 10000, 50)\n",
    "\n",
    "def gauss(mat_a, mat_b):\n",
    "    startt = time()\n",
    "    sla.solve(mat_a, mat_b)\n",
    "    endt = time()\n",
    "    return endt - startt\n",
    "\n",
    "\n",
    "def multyply_on_inverse(mat_a, mat_b):\n",
    "    startt = time()\n",
    "    det_a = sla.det(mat_a)\n",
    "    if det_a != 0:\n",
    "        a_inv = sla.inv(mat_a)\n",
    "        a_inv.dot(mat_b)\n",
    "    endt = time()\n",
    "    return endt - startt\n",
    "\n",
    "def way1():\n",
    "    arr = []\n",
    "    m = 10\n",
    "    timings1 = []\n",
    "    timings2 = []\n",
    "    for n in dimention1:\n",
    "        a = np.random.rand(n, n)\n",
    "        b = np.random.rand(n, m)\n",
    "        time_g = gauss(a, b)\n",
    "        time_i = multyply_on_inverse(a, b)\n",
    "        timings1.append(time_g)\n",
    "        timings2.append(time_i)\n",
    "    arr.append(timings1)\n",
    "    arr.append(timings2)\n",
    "    return arr\n",
    "\n",
    "def way2():\n",
    "    arr = []\n",
    "    n = 100\n",
    "    timings1 = []\n",
    "    timings2 = []\n",
    "    for m in dimention2:\n",
    "        a = np.random.rand(n, n)\n",
    "        b = np.random.rand(n, m)\n",
    "        time_g = gauss(a, b)\n",
    "        time_i = multyply_on_inverse(a, b)\n",
    "        timings1.append(time_g)\n",
    "        timings2.append(time_i)\n",
    "    arr.append(timings1)\n",
    "    arr.append(timings2)\n",
    "    return arr\n",
    "\n",
    "way1 = way1()\n",
    "way2 = way2()\n",
    "\n",
    "plt.figure(figsize=(8, 6))\n",
    "plt.plot(dimention1,way1[0], color='blue', label='gauss')\n",
    "plt.plot(dimention1, way1[1], color='red', label='multyply on inverse')\n",
    "plt.title('Fixed depended parts. Increase of values')\n",
    "plt.ylabel('Time')\n",
    "plt.yscale(\"log\")\n",
    "plt.xlabel('Matrix dimension')\n",
    "plt.xticks(np.arange(10, 1000, 75))\n",
    "plt.legend()\n",
    "plt.tick_params(axis = 'both',    #  Применяем параметры к обеим осям\n",
    "               which = 'major',    #  Применяем параметры к основным делениям\n",
    "               direction = 'inout',    #  Рисуем деления внутри и снаружи графика\n",
    "               length = 7,    #  Длинна делений\n",
    "               width = 3,     #  Ширина делений\n",
    "               color = 'm',    #  Цвет делений\n",
    "               pad = 5,    #  Расстояние между черточкой и ее подписью\n",
    "               labelsize = 11,    #  Размер подписи\n",
    "               labelcolor = 'm',    #  Цвет подписи\n",
    "               bottom = True,    #  Рисуем метки снизу\n",
    "               left = True,    #  слева\n",
    "               labelbottom = True,    #  Рисуем подписи снизу\n",
    "               labelleft = True,    #  слева\n",
    "               labelrotation = 45)    #  Поворот подписей\n",
    "plt.show()\n",
    "plt.figure(figsize=(8, 6))\n",
    "plt.plot(dimention2,way2[0], color='blue', label='gauss')\n",
    "plt.plot(dimention2, way2[1], color='red', label='multyply on inverse')\n",
    "plt.title('Fixed amount of values. Depended parts are becoming more')\n",
    "plt.ylabel('Time')\n",
    "plt.yscale(\"log\")\n",
    "plt.xlabel('Matrix dimension')\n",
    "plt.legend()\n",
    "plt.tick_params(axis = 'both',    #  Применяем параметры к обеим осям\n",
    "               which = 'major',    #  Применяем параметры к основным делениям\n",
    "               direction = 'inout',    #  Рисуем деления внутри и снаружи графика\n",
    "               length = 7,    #  Длинна делений\n",
    "               width = 3,     #  Ширина делений\n",
    "               color = 'm',    #  Цвет делений\n",
    "               pad = 5,    #  Расстояние между черточкой и ее подписью\n",
    "               labelsize = 11,    #  Размер подписи\n",
    "               labelcolor = 'm',    #  Цвет подписи\n",
    "               bottom = True,    #  Рисуем метки снизу\n",
    "               left = True,    #  слева\n",
    "               labelbottom = True,    #  Рисуем подписи снизу\n",
    "               labelleft = True,    #  слева\n",
    "               labelrotation = 45)    #  Поворот подписей\n",
    "\n",
    "plt.show()"
   ]
  },
  {
   "cell_type": "markdown",
   "metadata": {},
   "source": [
    "Прежде чем делать выводы рассмотрим каждый из этих способов отдельно. Про метод Гаусса сказать практически нечего: ну приводит матрицу к ступенчатову виду, ну к улучшенному ступенчатому виду, всё это элементарными преобразованиями. Как бы, ничего особенного, я тоже так умею. Но вот метод домножения на обратную матрицу, уже представляет интерес, а именно метод поиска этой обратной матрицы. Насколько я знаю, есть два способа найтиобратную матрицу: \n",
    "\n",
    "1) Через страшную, неприятную формулу, находя по пути матрицу алгебраических дополнений.\n",
    "\n",
    "2) Решить матричное уравнение $AB = E$, где $A \\in \\mathbb{R}^{n\\times{n}}$, а B - обратная ей матрица того же порядка.\n",
    "\n",
    "И, на самом деле, уже в этот момент можно взглянуть на графики, и увидеть, что в некоторых промежутков график метода Гаусса почти в точности повторяет график решения через поиск обратной матрицы. Вот теперь можно писать по заданию."
   ]
  },
  {
   "cell_type": "markdown",
   "metadata": {},
   "source": [
    "Рассмотрим сначала первый эксперимент: как можно увидеть из графика, на небольших порядках (где-то до 85) \n",
    "    решение через поиск обратной матрицы в разы быстрее метода Гаусса, что наверняка связано с тем, что \n",
    "    посчитать n определителей для матрицы алгебраических дополнений всё же быстрее, чем сначала привести матрицу\n",
    "    к ступенчатому виду, а потом поийти с конца и привести её к улучшенному ступенчатому виду."
   ]
  },
  {
   "cell_type": "markdown",
   "metadata": {},
   "source": [
    "Кстати говоря, про количество операций, для каждого из способов:  \n",
    "Метод Гаусса:  \n",
    "1) Чтобы обнулить всле элементы, находящиеся под элементом на ступеньке нужно $n$ раз посчитать коэффициент умножения\n",
    "    для элементарного преобразования первого типа, и сделать, соответственно $n$ вычитаний (будем считать, что вычитание\n",
    "    строк происходит мгновенно).  \n",
    "      \n",
    "2) После такого обнуления переходим к следующей строчке, и обнуляем все элементы под ведущим элементом в ней. Т.к. матрица коэффициентов у нас в данном случае всегда квадратная, то ведущие элементы расположатся на диагонали, и следовательно нам потребуется $n - 1$ раз посчитать коэффициент умножения и сделать $n - 1$ вычитаение, и т.д.  \n",
    "\n",
    "3) В какой-то момент может потребоваться поменять строчки местами, чтобы не возникало деление на 0, но это будет очень быстрая операция, т.к. уйдёт O(1) на поиск ненулевой строки и O(1) на их свап. На самом деле можно сказать, что чтобы привести матрицу методом Гаусса к ступенчатому виду, потребуется O($n^2$) операций.  \n",
    "\n",
    "4) После того как матрица приведена к ступенчатому виду, нужно привести её к улучшенному ступенчатому виду. Как бы это сделал я: не заморачивался бы, а просто транспонировал матрицу ступенчатого вида (напомню, она у нас квадратная, нас интересует только квадратная), она бы стала нижнетреугольной, и дальше ещё раз запустить на ней алгоритм, описаный выше. Стоит только заметить, что после того, как мы обнулили все элементы под ведущим, нам нужно разделить всю строку на величину его ведущего элемента, чтобы ведущий элемент был единичным. Но такое деление тоже происходит за O(1).  \n",
    "Итого имеем O($n^2$) на ступенчатый вид, O(1) на транспонирование, O($n^2$) на ступенчатый вид ещё раз, всего получается \n",
    "2O($n^2$) = O($n^2$) операций на метод Гаусса."
   ]
  },
  {
   "cell_type": "markdown",
   "metadata": {},
   "source": [
    "Про обратную матрицу я не буду всё так подробно расписывать:  \n",
    "1) Считаем определитель исходной матрицы (самый оптимальный алгоритм подсчёта определителя за O($n^2$))\n",
    "2) Находим n дополнительных миноров порядка $(n - 1)\\times(n - 1)$  \n",
    "3) Считаем алгебраические дополнения (O(n^2) для каждого элемента исходной матрицы)\n",
    "4) Транспонируем матрицу алгебраических дополнений и умножаем на определитель исходной матрицы в минус первой степени.\n",
    "Таким образом имеем O(n^2) на первый определитель, $nO((n - 1)^2)$ для алгебраических дополнений, ну и дальше по мелочи.\n",
    "Итого алгоритм сработает за $O(n^3)$ чтобы всё честно посчитать, и за $O(n^2)$, если исходная матрица вырождена. "
   ]
  },
  {
   "cell_type": "markdown",
   "metadata": {},
   "source": [
    "Обратно к графикам (всё ещё первый эксперимент): когда порядок матрицы достигает отметки в 85, уже становится заметно, как метод Гаусса уделывает обратную матрицу, которая, вопреки ожиданиям, не уход резко вверх. Видимо, алгоритм начинает честно считать алгебраические дополнения, но в какой-то момент забивает и переходит к методу Гаусса. Ну и дальше можно заметить, что чем больше порядок матриц, тем больше разрыв между графиками, из чего можно сделать  \n",
    "    ***Вывод:*** На небольших порядках (в пределах 85) логичнее использовать домножение на обратную матрицу, в то время как на больших порядках метод Гаусса показывается себя гораздо более эффективным."
   ]
  },
  {
   "cell_type": "markdown",
   "metadata": {},
   "source": [
    "Во втором эксперименте мы зафиксировали порадок матрицы коэффициентов, и увеличивали только количество столбцов в матрице свободных членов. На этом ксперименте, т.к. порядок матрицы коэффициентов мы зафиксировали небольшой,можно заметить, что домножение на противоположную матрицу ведёт себя +\\- линейно, т.к. алгоритму, видимо, никогда не впадлу посчитать 100 алгебраических дополнений. На самом деле сам процесс поиска обратной матрицы д этом случа можно считать константой, так как он вообще не зависит от размера матрицы свободных членов. Сколько бы столбцов мы не добавили, алгоритм посчитает 100 дополнений, посчитает определитель, и перемножит матрицы.  \n",
    "С другой сторона метод Гаусса очень даже зависит от размера матрицы $B$, ведь на каждом элементарном преобразовании ему нужно вычитать строку целиком.  \n",
    "На небольших порядках Гаусс всё ещё гораздо быстрее домножения на обратную, но со значительным увеличением размеров матрицы $B$ Гаусс начинает работать заметно медленнее, в то время на график домножения на обратную почти не меняется.  \n",
    "***Вывод:*** При небольших размерах матрицы коэффициентов и свободных членов метод Гаусса проявляет себя эффективнее, но со значительным увеличением матрицы свободных членов метод Гаусса теряет эффективность, в отличие от домножения на обратную. Если бы порогом было не 10к столбцов матрицы $B$, мы могли бы даже наверняка увидеть, как Гаусс стал бы медленне домножения на обратную."
   ]
  },
  {
   "cell_type": "code",
   "execution_count": null,
   "metadata": {},
   "outputs": [],
   "source": []
  }
 ],
 "metadata": {
  "kernelspec": {
   "display_name": "Python 3",
   "language": "python",
   "name": "python3"
  },
  "language_info": {
   "codemirror_mode": {
    "name": "ipython",
    "version": 3
   },
   "file_extension": ".py",
   "mimetype": "text/x-python",
   "name": "python",
   "nbconvert_exporter": "python",
   "pygments_lexer": "ipython3",
   "version": "3.5.2"
  }
 },
 "nbformat": 4,
 "nbformat_minor": 1
}
